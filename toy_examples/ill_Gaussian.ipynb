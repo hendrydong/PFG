{
 "cells": [
  {
   "cell_type": "code",
   "execution_count": 1,
   "metadata": {},
   "outputs": [],
   "source": [
    "import math\n",
    "import numpy as np\n",
    "import pandas as pd\n",
    "import torch\n",
    "import torch.autograd as autograd\n",
    "import torch.optim as optim\n",
    "import matplotlib.pyplot as plt"
   ]
  },
  {
   "cell_type": "code",
   "execution_count": 2,
   "metadata": {},
   "outputs": [],
   "source": [
    "def kl_divergence(mu1, mu2, sigma_1, sigma_2):\n",
    "    #sigma_diag_1 = np.eye(sigma_1.shape[0]) * sigma_1\n",
    "    #sigma_diag_2 = np.eye(sigma_2.shape[0]) * sigma_2\n",
    "\n",
    "    sigma_2_inv = torch.inverse(sigma_2)\n",
    "\n",
    "    kl = 0.5 * ((torch.det(sigma_2) / torch.det(sigma_1)).log()\n",
    "                - sigma_1.shape[0] \n",
    "                + torch.trace(torch.matmul(sigma_2_inv, sigma_1))\n",
    "                + torch.matmul(torch.matmul((mu2 - mu1).reshape(1,-1),\n",
    "                                            sigma_2_inv),\n",
    "                               (mu2 - mu1).reshape(-1,1)))\n",
    "\n",
    "    return kl\n",
    "\n",
    "\n",
    "def multivariate_gaussian(pos, mu, Sigma):\n",
    "    \"\"\"Return the multivariate Gaussian distribution on array pos.\"\"\"\n",
    "\n",
    "    n = mu.shape[0]\n",
    "    Sigma_det = np.linalg.det(Sigma)\n",
    "    Sigma_inv = np.linalg.inv(Sigma)\n",
    "    N = np.sqrt((2*np.pi)**n * Sigma_det)\n",
    "    # This einsum call calculates (x-mu)T.Sigma-1.(x-mu) in a vectorized\n",
    "    # way across all the input variables.\n",
    "    fac = np.einsum('...k,kl,...l->...', pos-mu, Sigma_inv, pos-mu)\n",
    "\n",
    "    return np.exp(-fac / 2) / N\n",
    "\n",
    "\n",
    "\n"
   ]
  },
  {
   "cell_type": "code",
   "execution_count": 3,
   "metadata": {},
   "outputs": [],
   "source": [
    "mu_opt = torch.tensor([20.,20])\n",
    "Sigma_opt = torch.tensor([[100.,0.],[.0,1]])\n",
    "\n"
   ]
  },
  {
   "cell_type": "code",
   "execution_count": 4,
   "metadata": {},
   "outputs": [
    {
     "data": {
      "image/png": "[encoded data removed]",
      "text/plain": [
       "<Figure size 432x288 with 1 Axes>"
      ]
     },
     "metadata": {
      "needs_background": "light"
     },
     "output_type": "display_data"
    },
    {
     "data": {
      "image/png": "[encoded data removed]",
      "text/plain": [
       "<Figure size 432x288 with 1 Axes>"
      ]
     },
     "metadata": {
      "needs_background": "light"
     },
     "output_type": "display_data"
    }
   ],
   "source": [
    "#### SVGD version 0\n",
    "\n",
    "\n",
    "\n",
    "\n",
    "Sigma_0 = torch.tensor([[1.,.0],[.0,1.]])\n",
    "X0 = torch.matmul(torch.randn(1000,2),Sigma_0**0.5)\n",
    "\n",
    "#Sigma_opt = torch.tensor([[100,0],[0,1]])\n",
    "#Sigma_opt_inv = torch.tensor([[0.01,0],[0,1]])\n",
    "\n",
    "Sigma_opt_inv = torch.inverse(Sigma_opt)\n",
    "mu0 = torch.tensor([0.,0])\n",
    "\n",
    "\n",
    "\n",
    "\n",
    "K = torch.eye(2)\n",
    "X = X0.clone()\n",
    "X = X.T\n",
    "I = torch.eye(2)\n",
    "N = 100\n",
    "XX = np.linspace(-10, 50, N)\n",
    "YY = np.linspace(-10, 50, N)\n",
    "XX, YY = np.meshgrid(XX, YY)\n",
    "pos = np.empty(XX.shape + (2,))\n",
    "pos[:, :, 0] = XX\n",
    "pos[:, :, 1] = YY\n",
    "m = np.array([0.,0.]) \n",
    "\n",
    "lr = 1e-3\n",
    "I = torch.eye(2)\n",
    "\n",
    "\n",
    "cov = Sigma_0.clone()\n",
    "mu = mu0.clone()\n",
    "\n",
    "T=10\n",
    "samples = []\n",
    "kls = []\n",
    "\n",
    "H = I\n",
    "K = I\n",
    "mu_opt_mu_opt = (mu_opt).reshape(-1,1).matmul((mu_opt).reshape(1,-1))\n",
    "def covfunc(a,b):\n",
    "    return (a).reshape(-1,1).matmul((b).reshape(1,-1))\n",
    "\n",
    "\n",
    "c = mu0\n",
    "\n",
    "cov1 = cov\n",
    "for i in range(int(T/lr)):\n",
    "    cov_inv = torch.inverse(cov)\n",
    "\n",
    "    A = Sigma_opt_inv.matmul(cov + covfunc(mu-mu_opt,mu-c)).matmul(K)\n",
    "    \n",
    "    B = cov_inv.matmul(cov - covfunc(c,mu)+covfunc(mu,c)).matmul(K)\n",
    "    \n",
    "    func1 = lambda x:-A.matmul(x-c) + Sigma_opt_inv.matmul(mu_opt-mu)\n",
    "    func2 = lambda x:B.matmul(x-c)\n",
    "    \n",
    "    mu += lr * (func1(mu)+func2(mu))\n",
    "    \n",
    "\n",
    "    diff = I + lr*(-A+B)\n",
    " \n",
    "\n",
    "    cov1 = torch.matmul(diff,cov1).matmul(diff.t())\n",
    "    cov = cov1\n",
    "\n",
    "    samples.append(mu.clone().numpy())\n",
    "\n",
    "    \n",
    "    X = X + lr*((B-A).matmul(X-c.reshape(-1,1)))\n",
    "    kls.append(kl_divergence(mu, mu_opt, cov, Sigma_opt).numpy())\n",
    "\n",
    "\n",
    "X = X.T\n",
    "\n",
    "ZZ = multivariate_gaussian(pos,mu.numpy(),cov.numpy())\n",
    "plt.figure(111)\n",
    "plt.contourf(XX,YY,ZZ)\n",
    "\n",
    "samples = np.array(samples)\n",
    "\n",
    "plt.figure(0)\n",
    "plt.plot([0],[0],'o',label=r'$T=0$')\n",
    "\n",
    "\n",
    "plt.plot(samples[int(0.1/lr),0],samples[int(0.1/lr),1],'o',label=r'$T=0.1$')\n",
    "plt.plot(samples[int(1/lr),0],samples[int(1/lr),1],'o',label=r'$T=1$')\n",
    "plt.plot(samples[int(2/lr),0],samples[int(2/lr),1],'o',label=r'$T=2$')\n",
    "plt.plot(samples[int(4/lr),0],samples[int(4/lr),1],'o',label=r'$T=4$')\n",
    "\n",
    "plt.plot([20],[20],'o',label=r'$T=\\infty$')\n",
    "plt.plot(samples[:,0],samples[:,1],'--k')\n",
    "plt.xlim([-10,30])\n",
    "plt.ylim([-10,30])\n",
    "plt.legend()\n",
    "\n",
    "svgd_linear = samples\n",
    "svgd_linear_kl = np.squeeze(np.array(kls))"
   ]
  },
  {
   "cell_type": "code",
   "execution_count": 5,
   "metadata": {},
   "outputs": [
    {
     "data": {
      "image/png": "[encoded data removed]",
      "text/plain": [
       "<Figure size 432x288 with 1 Axes>"
      ]
     },
     "metadata": {
      "needs_background": "light"
     },
     "output_type": "display_data"
    },
    {
     "data": {
      "image/png": "[encoded data removed]",
      "text/plain": [
       "<Figure size 432x288 with 1 Axes>"
      ]
     },
     "metadata": {
      "needs_background": "light"
     },
     "output_type": "display_data"
    }
   ],
   "source": [
    "\n",
    "Sigma_0 = torch.tensor([[1.,.0],[.0,1.]])\n",
    "X0 = torch.matmul(torch.randn(1000,2),Sigma_0**0.5)\n",
    "\n",
    "#Sigma_opt = torch.tensor([[100,0],[0,1]])\n",
    "#Sigma_opt_inv = torch.tensor([[0.01,0],[0,1]])\n",
    "#Sigma_opt = torch.tensor([[100.,0.],[.0,1]])\n",
    "Sigma_opt_inv = torch.inverse(Sigma_opt)\n",
    "mu0 = torch.tensor([0.,0])\n",
    "#mu_opt = torch.tensor([20.,20])\n",
    "\n",
    "\n",
    "\n",
    "K = torch.eye(2)\n",
    "X = X0.clone()\n",
    "X = X.T\n",
    "I = torch.eye(2)\n",
    "N = 100\n",
    "XX = np.linspace(-10, 50, N)\n",
    "YY = np.linspace(-10, 50, N)\n",
    "XX, YY = np.meshgrid(XX, YY)\n",
    "pos = np.empty(XX.shape + (2,))\n",
    "pos[:, :, 0] = XX\n",
    "pos[:, :, 1] = YY\n",
    "m = np.array([0.,0.]) \n",
    "\n",
    "lr = 1e-3\n",
    "I = torch.eye(2)\n",
    "\n",
    "\n",
    "cov = Sigma_0.clone()\n",
    "mu = mu0.clone()\n",
    "\n",
    "T=10\n",
    "samples = []\n",
    "kls = []\n",
    "H = Sigma_opt\n",
    "K = I\n",
    "mu_opt_mu_opt = (mu_opt).reshape(-1,1).matmul((mu_opt).reshape(1,-1))\n",
    "for i in range(int(T/lr)):\n",
    "    cov_inv = torch.inverse(cov)\n",
    "    Q = I\n",
    "    P = H\n",
    "\n",
    "    Q = I\n",
    "    PSQ = torch.matmul(P,Sigma_opt_inv).matmul(Q)\n",
    "    mu += lr*torch.matmul(PSQ,mu_opt-mu)\n",
    "    \n",
    "    diff = I + lr*(torch.matmul(P,cov_inv).matmul(Q)-PSQ)\n",
    "    \n",
    "    cov = torch.matmul(diff,cov).matmul(diff.t())\n",
    "    samples.append(mu.clone().numpy())\n",
    "\n",
    "    kls.append(kl_divergence(mu, mu_opt, cov, Sigma_opt).numpy())\n",
    "\n",
    "\n",
    "plt.figure(0)\n",
    "\n",
    "ZZ = multivariate_gaussian(pos,mu.numpy(),cov.numpy())\n",
    "\n",
    "plt.contourf(XX,YY,ZZ)\n",
    "\n",
    "plt.figure(1)\n",
    "\n",
    "samples = np.array(samples)\n",
    "plt.plot([0],[0],'o',label=r'$T=0$')\n",
    "plt.plot(samples[int(0.1/lr),0],samples[int(0.1/lr),1],'o',label=r'$T=0.1$')\n",
    "plt.plot(samples[int(1/lr),0],samples[int(1/lr),1],'o',label=r'$T=1$')\n",
    "plt.plot(samples[int(2/lr),0],samples[int(2/lr),1],'o',label=r'$T=2$')\n",
    "plt.plot(samples[int(4/lr),0],samples[int(4/lr),1],'o',label=r'$T=4$')\n",
    "plt.plot([20],[20],'o',label=r'$T=\\infty$')\n",
    "plt.plot(samples[:,0],samples[:,1],'--k')\n",
    "plt.xlim([-10,30])\n",
    "plt.ylim([-10,30])\n",
    "plt.legend()\n",
    "\n",
    "ours = samples\n",
    "ours_kl = np.squeeze(np.array(kls))"
   ]
  },
  {
   "cell_type": "code",
   "execution_count": 6,
   "metadata": {},
   "outputs": [],
   "source": [
    "class SVGD:\n",
    "  def __init__(self, P, K, optimizer):\n",
    "    self.P = P\n",
    "    self.K = K\n",
    "    self.optim = optimizer\n",
    "\n",
    "  def phi(self, X):\n",
    "    X = X.detach().requires_grad_(True)\n",
    "\n",
    "    log_prob = self.P.log_prob(X)\n",
    "    score_func = autograd.grad(log_prob.sum(), X)[0]\n",
    "\n",
    "    K_XX = self.K(X, X.detach())\n",
    "    #score_func = autograd.grad(log_prob.sum(), X)[0]\n",
    "    grad_K = -autograd.grad(K_XX.sum(), X)[0]\n",
    "\n",
    "    phi = (K_XX.detach().matmul(score_func) + grad_K) / X.size(0)\n",
    "\n",
    "    return phi\n",
    "\n",
    "  def step(self, X):\n",
    "    self.optim.zero_grad()\n",
    "    X.grad = -self.phi(X)\n",
    "    self.optim.step()\n",
    "\n",
    "    \n",
    "class RBF(torch.nn.Module):\n",
    "  def __init__(self, sigma=None):\n",
    "    super(RBF, self).__init__()\n",
    "\n",
    "    self.sigma = sigma\n",
    "\n",
    "  def forward(self, X, Y):\n",
    "    XX = X.matmul(X.t())\n",
    "    XY = X.matmul(Y.t())\n",
    "    YY = Y.matmul(Y.t())\n",
    "\n",
    "    dnorm2 = -2 * XY + XX.diag().unsqueeze(1) + YY.diag().unsqueeze(0)\n",
    "\n",
    "    # Apply the median heuristic (PyTorch does not give true median)\n",
    "    if self.sigma is None:\n",
    "      np_dnorm2 = dnorm2.detach().cpu().numpy()\n",
    "      h = np.median(np_dnorm2) / (2 * np.log(X.size(0) + 1))\n",
    "      sigma = np.sqrt(h).item()\n",
    "    else:\n",
    "      sigma = self.sigma\n",
    "\n",
    "    gamma = 1.0 / (1e-8 + 2 * sigma ** 2)\n",
    "    K_XY = (-gamma * dnorm2).exp()\n",
    "\n",
    "    return K_XY\n",
    "  \n",
    "# Let us initialize a reusable instance right away.\n",
    "\n",
    "\n"
   ]
  },
  {
   "cell_type": "code",
   "execution_count": 7,
   "metadata": {},
   "outputs": [],
   "source": [
    "X_init = torch.randn([1000,2])\n",
    "\n",
    "gauss = torch.distributions.MultivariateNormal(mu_opt,\n",
    "        covariance_matrix=Sigma_opt)"
   ]
  },
  {
   "cell_type": "code",
   "execution_count": 8,
   "metadata": {},
   "outputs": [],
   "source": [
    "K = RBF(1)\n",
    "X = X_init.clone()\n",
    "lr = 1e-2\n",
    "svgd = SVGD(gauss, K, optim.SGD([X], lr=lr))\n",
    "samples = []\n",
    "kls = []\n",
    "for _ in range(int(10/lr)):\n",
    "    mu = X.mean(0).clone()\n",
    "    cov = torch.cov(X.t())\n",
    "    samples.append(mu.numpy())\n",
    "    svgd.step(X)\n",
    "    \n",
    "    kls.append(kl_divergence(mu, mu_opt, cov, Sigma_opt).numpy())\n",
    "\n",
    "svgd_rbf = samples\n",
    "svgd_rbf_kl = np.squeeze(np.array(kls))\n",
    "    \n",
    "\n",
    "\n"
   ]
  },
  {
   "cell_type": "code",
   "execution_count": 9,
   "metadata": {},
   "outputs": [
    {
     "data": {
      "text/plain": [
       "<matplotlib.legend.Legend at 0x7f8d6d5f9b10>"
      ]
     },
     "execution_count": 9,
     "metadata": {},
     "output_type": "execute_result"
    },
    {
     "data": {
      "image/png": "[encoded data removed]",
      "text/plain": [
       "<Figure size 432x288 with 1 Axes>"
      ]
     },
     "metadata": {
      "needs_background": "light"
     },
     "output_type": "display_data"
    }
   ],
   "source": [
    "plt.figure(1)\n",
    "\n",
    "samples = np.array(samples)\n",
    "plt.plot([0],[0],'o',label=r'$T=0$')\n",
    "plt.plot(samples[int(0.1/lr),0],samples[int(0.1/lr),1],'o',label=r'$T=0.1$')\n",
    "plt.plot(samples[int(1/lr),0],samples[int(1/lr),1],'o',label=r'$T=1$')\n",
    "plt.plot(samples[int(2/lr),0],samples[int(2/lr),1],'o',label=r'$T=2$')\n",
    "plt.plot(samples[int(4/lr),0],samples[int(4/lr),1],'o',label=r'$T=4$')\n",
    "plt.plot([20],[20],'o',label=r'$T=\\infty$')\n",
    "plt.plot(samples[:,0],samples[:,1],'--k')\n",
    "plt.xlim([-10,30])\n",
    "plt.ylim([-10,30])\n",
    "plt.legend()\n",
    "\n",
    "\n"
   ]
  },
  {
   "cell_type": "code",
   "execution_count": 10,
   "metadata": {},
   "outputs": [
    {
     "data": {
      "image/png": "[encoded data removed]",
      "text/plain": [
       "<Figure size 432x288 with 1 Axes>"
      ]
     },
     "metadata": {
      "needs_background": "light"
     },
     "output_type": "display_data"
    }
   ],
   "source": [
    "\n",
    "Sigma_0 = torch.tensor([[1.,.0],[.0,1.]])\n",
    "X0 = torch.matmul(torch.randn(1000,2),Sigma_0**0.5)\n",
    "\n",
    "\n",
    "Sigma_opt_inv = torch.inverse(Sigma_opt)\n",
    "mu0 = torch.tensor([0.,0])\n",
    "\n",
    "K = torch.eye(2)\n",
    "X = X0.clone()\n",
    "X = X.T\n",
    "I = torch.eye(2)\n",
    "N = 100\n",
    "XX = np.linspace(-10, 50, N)\n",
    "YY = np.linspace(-10, 50, N)\n",
    "XX, YY = np.meshgrid(XX, YY)\n",
    "pos = np.empty(XX.shape + (2,))\n",
    "pos[:, :, 0] = XX\n",
    "pos[:, :, 1] = YY\n",
    "m = np.array([0.,0.]) \n",
    "\n",
    "lr = 1e-3\n",
    "I = torch.eye(2)\n",
    "\n",
    "\n",
    "cov = Sigma_0.clone()\n",
    "mu = mu0.clone()\n",
    "\n",
    "T=10\n",
    "samples = []\n",
    "kls = []\n",
    "H = I\n",
    "K = I\n",
    "mu_opt_mu_opt = (mu_opt).reshape(-1,1).matmul((mu_opt).reshape(1,-1))\n",
    "\n",
    "for i in range(int(T/lr)):\n",
    "    cov_inv = torch.inverse(cov)\n",
    "\n",
    "    K = cov_inv\n",
    "\n",
    "    P = H\n",
    "    \n",
    "  \n",
    "    Q = torch.matmul(cov,K)\n",
    "    PSQ = torch.matmul(P,Sigma_opt_inv).matmul(Q)\n",
    "    mu += lr*torch.matmul(PSQ,mu_opt-mu)\n",
    "    \n",
    "    diff = I + lr*(torch.matmul(P,cov_inv).matmul(Q)-PSQ)\n",
    "    \n",
    "    cov = torch.matmul(diff,cov).matmul(diff)\n",
    "    samples.append(mu.clone().numpy())\n",
    "    kls.append(kl_divergence(mu, mu_opt, cov, Sigma_opt).numpy())\n",
    "\n",
    "\n",
    "\n",
    "\n",
    "samples = np.array(samples)\n",
    "plt.plot([0],[0],'o',label=r'$T=0$')\n",
    "plt.plot(samples[int(0.1/lr),0],samples[int(0.1/lr),1],'o',label=r'$T=0.1$')\n",
    "plt.plot(samples[int(1/lr),0],samples[int(1/lr),1],'o',label=r'$T=1$')\n",
    "plt.plot(samples[int(2/lr),0],samples[int(2/lr),1],'o',label=r'$T=2$')\n",
    "plt.plot(samples[int(4/lr),0],samples[int(4/lr),1],'o',label=r'$T=4$')\n",
    "plt.plot([20],[20],'o',label=r'$T=\\infty$')\n",
    "plt.plot(samples[:,0],samples[:,1],'--k')\n",
    "plt.xlim([-10,30])\n",
    "plt.ylim([-10,30])\n",
    "plt.legend()\n",
    "\n",
    "w_grad = samples\n",
    "w_grad_kl = np.squeeze(np.array(kls))"
   ]
  },
  {
   "cell_type": "code",
   "execution_count": 11,
   "metadata": {},
   "outputs": [
    {
     "data": {
      "image/png": "[encoded data removed]",
      "text/plain": [
       "<Figure size 432x288 with 1 Axes>"
      ]
     },
     "metadata": {
      "needs_background": "light"
     },
     "output_type": "display_data"
    }
   ],
   "source": [
    "plt.plot(np.arange(len(svgd_linear_kl))/1000,svgd_linear_kl,label='SVGD (Linear)')\n",
    "plt.plot(np.arange(len(svgd_rbf_kl))*10/1000,svgd_rbf_kl,label='SVGD (RBF)')\n",
    "plt.plot(np.arange(len(w_grad_kl))/1000,w_grad_kl,label='Wasserstein Grad')\n",
    "plt.plot(np.arange(len(ours_kl))/1000,ours_kl,'--',label='Ours')\n",
    "plt.xlabel('iterations (K)',fontsize=16)\n",
    "plt.ylabel('KL divergence',fontsize=30)\n",
    "plt.ylim([1e-6,1e3])\n",
    "#plt.ylim([1e-6,1e2])\n",
    "#plt.ylim([1e-6,2e0])\n",
    "plt.yscale('log')\n",
    "plt.tight_layout()"
   ]
  },
  {
   "cell_type": "code",
   "execution_count": 12,
   "metadata": {},
   "outputs": [
    {
     "data": {
      "image/png": "[encoded data removed]",
      "text/plain": [
       "<Figure size 432x288 with 1 Axes>"
      ]
     },
     "metadata": {
      "needs_background": "light"
     },
     "output_type": "display_data"
    }
   ],
   "source": [
    "def dist_f(x):\n",
    "    return np.sum((x-mu_opt.numpy().reshape(1,-1))**2,1)\n",
    "\n",
    "#plt.figure(figsize=(5,3))\n",
    "\n",
    "\n",
    "\n",
    "plt.plot(np.arange(len(svgd_linear_kl))/1000,dist_f(svgd_linear),label='SVGD (Linear)')\n",
    "plt.plot(np.arange(len(svgd_rbf))*10/1000,dist_f(svgd_rbf),label='SVGD (RBF)')\n",
    "plt.plot(np.arange(len(w_grad_kl))/1000,dist_f(w_grad),label='Wasserstein Grad')\n",
    "plt.plot(np.arange(len(ours_kl))/1000,dist_f(ours),'--',label='Ours')\n",
    "plt.xlabel('iterations (K)',fontsize=16)\n",
    "plt.ylabel('$\\Vert\\mu_t - \\mu_*\\Vert^2$',fontsize=30)\n",
    "plt.ylim([5e-6,1e3])\n",
    "#plt.ylim([5e-6,5e0])\n",
    "#plt.legend()\n",
    "plt.yscale('log')\n",
    "#plt.legend(fontsize=13,loc='lower left')\n",
    "plt.tight_layout()"
   ]
  },
  {
   "cell_type": "code",
   "execution_count": null,
   "metadata": {},
   "outputs": [],
   "source": []
  }
 ],
 "metadata": {
  "kernelspec": {
   "display_name": "Python 3",
   "language": "python",
   "name": "python3"
  },
  "language_info": {
   "codemirror_mode": {
    "name": "ipython",
    "version": 3
   },
   "file_extension": ".py",
   "mimetype": "text/x-python",
   "name": "python",
   "nbconvert_exporter": "python",
   "pygments_lexer": "ipython3",
   "version": "3.7.4"
  }
 },
 "nbformat": 4,
 "nbformat_minor": 2
}
