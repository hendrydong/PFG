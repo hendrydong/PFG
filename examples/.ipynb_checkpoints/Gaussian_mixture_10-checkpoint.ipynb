{
 "cells": [
  {
   "cell_type": "code",
   "execution_count": 1,
   "metadata": {},
   "outputs": [],
   "source": [
    "import math\n",
    "import numpy as np\n",
    "import pandas as pd\n",
    "import torch\n",
    "import torch.autograd as autograd\n",
    "import torch.optim as optim\n",
    "import matplotlib.pyplot as plt\n",
    "device = torch.device(3 if torch.cuda.is_available() else 'cpu')\n",
    "import time"
   ]
  },
  {
   "cell_type": "code",
   "execution_count": 2,
   "metadata": {},
   "outputs": [],
   "source": [
    "import time\n",
    "import seaborn as sns"
   ]
  },
  {
   "cell_type": "code",
   "execution_count": 3,
   "metadata": {},
   "outputs": [],
   "source": [
    "import torch.distributions as D\n",
    "K = 10\n",
    "torch.manual_seed(1)\n",
    "mix = D.Categorical(torch.ones(K,).to(device))\n",
    "comp = D.Independent(D.Normal(\n",
    "             torch.randn(K,2).to(device), torch.ones(K,2).to(device)*0.1), 1)\n",
    "gmm = D.MixtureSameFamily(mix, comp)"
   ]
  },
  {
   "cell_type": "code",
   "execution_count": 4,
   "metadata": {},
   "outputs": [
    {
     "data": {
      "text/plain": [
       "[<matplotlib.lines.Line2D at 0x7f77dcdb7550>]"
      ]
     },
     "execution_count": 4,
     "metadata": {},
     "output_type": "execute_result"
    },
    {
     "data": {
      "image/png": "[encoded data removed]",
      "text/plain": [
       "<Figure size 432x288 with 1 Axes>"
      ]
     },
     "metadata": {
      "needs_background": "light"
     },
     "output_type": "display_data"
    }
   ],
   "source": [
    "sample = gmm.sample((100,)).cpu()\n",
    "plt.plot(sample[:,0],sample[:,1],'.')"
   ]
  },
  {
   "cell_type": "code",
   "execution_count": 5,
   "metadata": {},
   "outputs": [],
   "source": [
    "def divergence_bf(dx, y):\n",
    "    sum_diag = 0.\n",
    "    for i in range(y.shape[1]):\n",
    "        sum_diag += torch.autograd.grad(dx[:, i].sum(), y, create_graph=True)[0].contiguous()[:, i].contiguous()\n",
    "    return sum_diag.contiguous()\n",
    "\n",
    "def sample_rademacher_like(y):\n",
    "    return torch.randint(low=0, high=2, size=y.shape).to(y) * 2 - 1\n",
    "\n",
    "\n",
    "def sample_gaussian_like(y):\n",
    "    return torch.randn_like(y)\n",
    "\n",
    "def divergence_approx(f, y, e=None):\n",
    "    if e is None:\n",
    "        e = sample_rademacher_like(y)\n",
    "    e_dzdx = torch.autograd.grad(f, y, e, create_graph=True)[0]\n",
    "    e_dzdx_e = e_dzdx * e\n",
    "    approx_tr_dzdx = e_dzdx_e.view(y.shape[0], -1).sum(dim=1)\n",
    "    return approx_tr_dzdx\n",
    "\n",
    "\n",
    "\n",
    "\n",
    "\n",
    "    \n",
    "\n",
    "    \n",
    "class PFGfast:\n",
    "  def __init__(self, P, net, optimizer1,optimizer2):\n",
    "    self.P = P\n",
    "    self.net = net\n",
    "    self.optim1 = optimizer1\n",
    "    self.optim2 = optimizer2\n",
    "\n",
    "  def phi(self, X):\n",
    "    #self.net.eval()\n",
    "    #X = X.detach().requires_grad_(True)\n",
    "    \n",
    "    #log_prob = self.P.log_prob(X)\n",
    "    #score_func = torch.autograd.grad(log_prob.sum(), X)[0]\n",
    "    \n",
    "    phi = self.net(X) / X.size(0)\n",
    "\n",
    "    return -phi\n",
    "\n",
    "  def step(self, X):\n",
    "    self.optim1.zero_grad()\n",
    "    X.grad = self.phi(X)\n",
    "    self.optim1.step()\n",
    "\n",
    "  def score_step(self, X):\n",
    "    H = torch.std(X,0)\n",
    "    X = X.detach().requires_grad_(True)\n",
    "    \n",
    "    log_prob = self.P.log_prob(X)\n",
    "    score_func = torch.autograd.grad(log_prob.sum(), X)[0].detach()\n",
    "    \n",
    "    self.net.train()\n",
    "    \n",
    "    X = X.detach().requires_grad_(True)\n",
    "    S = self.net(X)\n",
    "\n",
    "\n",
    "    H = torch.eye(X.shape[1])\n",
    "\n",
    "    self.optim2.zero_grad()\n",
    "    \n",
    "    loss = (-torch.sum(score_func*S) - torch.sum(divergence_approx(S,X)) + 0.5*torch.trace(H.matmul(S.T).matmul(S)))/S.shape[0]\n",
    "    loss.backward()\n",
    "    self.optim2.step()"
   ]
  },
  {
   "cell_type": "code",
   "execution_count": 6,
   "metadata": {},
   "outputs": [],
   "source": [
    "from torch import nn\n",
    "\n",
    "n = 1000\n",
    "X_init = (torch.randn(n, 2)).to(device)\n",
    "\n",
    "\n",
    "\n",
    "\n",
    "X = X_init.clone()\n",
    "\n",
    "h = 32\n",
    "net = nn.Sequential(nn.Linear(2,h),nn.Tanh(),nn.Linear(h,h),nn.Tanh(),nn.Linear(h,2)).to(device)\n",
    "\n",
    "s = lambda x: net(x)"
   ]
  },
  {
   "cell_type": "code",
   "execution_count": 7,
   "metadata": {},
   "outputs": [
    {
     "name": "stdout",
     "output_type": "stream",
     "text": [
      "27.0117449760437\n"
     ]
    }
   ],
   "source": [
    "pfg = PFGfast(gmm, net,optim.SGD([X], lr=1e-1,momentum=0.),optim.SGD(net.parameters(), lr=1e-3, momentum=0.9,nesterov=1))\n",
    "\n",
    "\n",
    "#optim.SGD(net.parameters(), lr=1e-2,momentum=0.)\n",
    "t1 = time.time()\n",
    "\n",
    "for i in range(100):\n",
    "    pfg.score_step(X)\n",
    "\n",
    "for i in range(2000):\n",
    "    \n",
    "    for j in range(5):\n",
    "        pfg.score_step(X)\n",
    "     \n",
    "\n",
    "    pfg.step(X)\n",
    "print(time.time()-t1)"
   ]
  },
  {
   "cell_type": "code",
   "execution_count": 8,
   "metadata": {},
   "outputs": [
    {
     "data": {
      "text/plain": [
       "(-2.0, 2.0)"
      ]
     },
     "execution_count": 8,
     "metadata": {},
     "output_type": "execute_result"
    },
    {
     "data": {
      "image/png": "[encoded data removed]",
      "text/plain": [
       "<Figure size 432x288 with 1 Axes>"
      ]
     },
     "metadata": {
      "needs_background": "light"
     },
     "output_type": "display_data"
    }
   ],
   "source": [
    "plt.plot(X.cpu().numpy()[:,0],X.cpu().numpy()[:,1],'x')\n",
    "plt.xlim([-2,2])\n",
    "plt.ylim([-2,2])"
   ]
  },
  {
   "cell_type": "code",
   "execution_count": 9,
   "metadata": {},
   "outputs": [],
   "source": [
    "class RBF(torch.nn.Module):\n",
    "  def __init__(self, sigma=None):\n",
    "    super(RBF, self).__init__()\n",
    "\n",
    "    self.sigma = sigma\n",
    "\n",
    "  def forward(self, X, Y):\n",
    "    XX = X.matmul(X.t())\n",
    "    XY = X.matmul(Y.t())\n",
    "    YY = Y.matmul(Y.t())\n",
    "\n",
    "    dnorm2 = -2 * XY + XX.diag().unsqueeze(1) + YY.diag().unsqueeze(0)\n",
    "\n",
    "    # Apply the median heuristic (PyTorch does not give true median)\n",
    "    if self.sigma is None:\n",
    "        np_dnorm2 = dnorm2.detach()\n",
    "        h = torch.median(np_dnorm2)/(2 * np.log(X.size(0) + 1))\n",
    "        sigma = torch.sqrt(h).item()\n",
    "    else:\n",
    "        sigma = self.sigma\n",
    "\n",
    "    gamma = 1.0 / (1e-8 + 2 * sigma ** 2)\n",
    "    K_XY = (-gamma * dnorm2).exp()\n",
    "\n",
    "    return K_XY\n",
    "\n",
    "  def dK(self, X, Y):\n",
    "    XX = X.matmul(X.t())\n",
    "    XY = X.matmul(Y.t())\n",
    "    YY = Y.matmul(Y.t())\n",
    "\n",
    "    dnorm2 = -2 * XY + XX.diag().unsqueeze(1) + YY.diag().unsqueeze(0)\n",
    "\n",
    "    # Apply the median heuristic (PyTorch does not give true median)\n",
    "    if self.sigma is None:\n",
    "        np_dnorm2 = dnorm2.detach()\n",
    "        h = torch.median(np_dnorm2)/(2 * np.log(X.size(0) + 1))\n",
    "        sigma = torch.sqrt(h).item()\n",
    "    else:\n",
    "        sigma = self.sigma\n",
    "\n",
    "    gamma = 1.0 / (1e-8 + 2 * sigma ** 2)\n",
    "    K_XY = (-gamma * dnorm2).exp() #bX x bY\n",
    "    \n",
    "    X_Y = X.view(X.shape[0],1,X.shape[1])-Y.view(1,Y.shape[0],Y.shape[1]) # bX x bY x d\n",
    "    #print(X_Y.shape,K_XY.shape)\n",
    "    dKXY = torch.sum(K_XY.view(K_XY.shape[0],K_XY.shape[1],1) * (-gamma) * X_Y,0)\n",
    "    return dKXY\n",
    "  \n",
    "# Let us initialize a reusable instance right away.\n",
    "Ker = RBF()"
   ]
  },
  {
   "cell_type": "code",
   "execution_count": 10,
   "metadata": {},
   "outputs": [],
   "source": [
    "class SVGD:\n",
    "  def __init__(self, P, K, optimizer):\n",
    "    self.P = P\n",
    "    self.K = K\n",
    "    self.optim = optimizer\n",
    "\n",
    "  def phi(self, X):\n",
    "    X = X.detach().requires_grad_(True)\n",
    "\n",
    "    log_prob = self.P.log_prob(X)\n",
    "    score_func = autograd.grad(log_prob.sum(), X)[0]\n",
    "\n",
    "    K_XX = self.K(X, X.detach())\n",
    "    grad_K = self.K.dK(X.detach(), X)\n",
    "    #-autograd.grad(K_XX.sum(), X)[0]\n",
    "\n",
    "    phi = (K_XX.detach().matmul(score_func) + grad_K) / X.size(0)\n",
    "\n",
    "    return phi\n",
    "\n",
    "  def step(self, X):\n",
    "    self.optim.zero_grad()\n",
    "    X.grad = -self.phi(X)\n",
    "    self.optim.step()"
   ]
  },
  {
   "cell_type": "code",
   "execution_count": 11,
   "metadata": {},
   "outputs": [
    {
     "name": "stdout",
     "output_type": "stream",
     "text": [
      "61.38095188140869\n"
     ]
    }
   ],
   "source": [
    "X = X_init.clone()\n",
    "svgd = SVGD(gmm, Ker, optim.SGD([X], lr=1e-2,momentum=0.))\n",
    "t1 = time.time()\n",
    "for i in range(2000):\n",
    "    #print(i)\n",
    "    svgd.step(X)\n",
    "    \n",
    "print(time.time()-t1)"
   ]
  },
  {
   "cell_type": "code",
   "execution_count": 12,
   "metadata": {},
   "outputs": [
    {
     "data": {
      "text/plain": [
       "(-2.0, 2.0)"
      ]
     },
     "execution_count": 12,
     "metadata": {},
     "output_type": "execute_result"
    },
    {
     "data": {
      "image/png": "[encoded data removed]",
      "text/plain": [
       "<Figure size 432x288 with 1 Axes>"
      ]
     },
     "metadata": {
      "needs_background": "light"
     },
     "output_type": "display_data"
    }
   ],
   "source": [
    "plt.plot(X.cpu().numpy()[:,0],X.cpu().numpy()[:,1],'x')\n",
    "plt.xlim([-2,2])\n",
    "plt.ylim([-2,2])"
   ]
  },
  {
   "cell_type": "code",
   "execution_count": null,
   "metadata": {},
   "outputs": [],
   "source": []
  }
 ],
 "metadata": {
  "kernelspec": {
   "display_name": "Python 3",
   "language": "python",
   "name": "python3"
  },
  "language_info": {
   "codemirror_mode": {
    "name": "ipython",
    "version": 3
   },
   "file_extension": ".py",
   "mimetype": "text/x-python",
   "name": "python",
   "nbconvert_exporter": "python",
   "pygments_lexer": "ipython3",
   "version": "3.7.4"
  }
 },
 "nbformat": 4,
 "nbformat_minor": 2
}
